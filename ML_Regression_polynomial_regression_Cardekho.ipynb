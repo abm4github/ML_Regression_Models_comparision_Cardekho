{
  "nbformat": 4,
  "nbformat_minor": 0,
  "metadata": {
    "colab": {
      "name": "polynomial_regression.ipynb",
      "provenance": [],
      "collapsed_sections": [],
      "include_colab_link": true
    },
    "kernelspec": {
      "name": "python3",
      "display_name": "Python 3"
    }
  },
  "cells": [
    {
      "cell_type": "markdown",
      "metadata": {
        "id": "view-in-github",
        "colab_type": "text"
      },
      "source": [
        "<a href=\"https://colab.research.google.com/github/abm4github/ML_Regression_Models_comparision_Cardekho/blob/main/ML_Regression_polynomial_regression_Cardekho.ipynb\" target=\"_parent\"><img src=\"https://colab.research.google.com/assets/colab-badge.svg\" alt=\"Open In Colab\"/></a>"
      ]
    },
    {
      "cell_type": "markdown",
      "metadata": {
        "id": "vN99YjPTDena"
      },
      "source": [
        "# Polynomial Regression"
      ]
    },
    {
      "cell_type": "markdown",
      "metadata": {
        "id": "ZIx_naXnDyHd"
      },
      "source": [
        "## Importing the libraries"
      ]
    },
    {
      "cell_type": "code",
      "metadata": {
        "id": "FjnmdyPLD2tS"
      },
      "source": [
        "import numpy as np\n",
        "import matplotlib.pyplot as plt\n",
        "import pandas as pd"
      ],
      "execution_count": 1,
      "outputs": []
    },
    {
      "cell_type": "markdown",
      "metadata": {
        "id": "6c8YExmOD5x5"
      },
      "source": [
        "## Importing the dataset"
      ]
    },
    {
      "cell_type": "code",
      "metadata": {
        "id": "nQOdXhjXD_AE"
      },
      "source": [
        "dataset = pd.read_csv('car_dekho_cleaned.csv')\n",
        "X = dataset.iloc[:, :-1].values\n",
        "y = dataset.iloc[:, -1].values"
      ],
      "execution_count": 2,
      "outputs": []
    },
    {
      "cell_type": "markdown",
      "metadata": {
        "id": "Ud_1XTb28iXH"
      },
      "source": [
        "## Splitting the dataset into the Training set and Test set"
      ]
    },
    {
      "cell_type": "code",
      "metadata": {
        "id": "bUib_pbl8ipB"
      },
      "source": [
        "from sklearn.model_selection import train_test_split\n",
        "X_train, X_test, y_train, y_test = train_test_split(X, y, test_size = 0.2, random_state = 0)"
      ],
      "execution_count": 3,
      "outputs": []
    },
    {
      "cell_type": "markdown",
      "metadata": {
        "id": "Rb5nWuSHEfBV"
      },
      "source": [
        "## Training the Polynomial Regression model on the Training set"
      ]
    },
    {
      "cell_type": "code",
      "metadata": {
        "id": "HYplp4pTEm0O",
        "colab": {
          "base_uri": "https://localhost:8080/"
        },
        "outputId": "b52bea7e-ecb9-4e46-e908-d4721eb6c1e0"
      },
      "source": [
        "from sklearn.preprocessing import PolynomialFeatures\n",
        "from sklearn.linear_model import LinearRegression\n",
        "poly_reg = PolynomialFeatures(degree = 4)\n",
        "X_poly = poly_reg.fit_transform(X_train)\n",
        "regressor = LinearRegression()\n",
        "regressor.fit(X_poly, y_train)"
      ],
      "execution_count": 4,
      "outputs": [
        {
          "output_type": "execute_result",
          "data": {
            "text/plain": [
              "LinearRegression(copy_X=True, fit_intercept=True, n_jobs=None, normalize=False)"
            ]
          },
          "metadata": {},
          "execution_count": 4
        }
      ]
    },
    {
      "cell_type": "markdown",
      "metadata": {
        "id": "pzF3BRps9nlk"
      },
      "source": [
        "## Predicting the Test set results"
      ]
    },
    {
      "cell_type": "code",
      "metadata": {
        "id": "36aFLFBK9pMk",
        "colab": {
          "base_uri": "https://localhost:8080/"
        },
        "outputId": "12dcd47d-a589-4e83-cce0-53b8975bc21b"
      },
      "source": [
        "y_pred = regressor.predict(poly_reg.transform(X_test))\n",
        "np.set_printoptions(precision=2)\n",
        "print(np.concatenate((y_pred.reshape(len(y_pred),1), y_test.reshape(len(y_test),1)),1))"
      ],
      "execution_count": 5,
      "outputs": [
        {
          "output_type": "stream",
          "name": "stdout",
          "text": [
            "[[12.28  8.25]\n",
            " [ 1.13  0.5 ]\n",
            " [ 4.06  5.25]\n",
            " [10.19  9.5 ]\n",
            " [10.85 18.  ]\n",
            " [ 3.93  5.5 ]\n",
            " [ 3.74  3.75]\n",
            " [ 1.64  0.45]\n",
            " [ 5.67  4.5 ]\n",
            " [ 5.37  4.5 ]\n",
            " [ 2.66  2.7 ]\n",
            " [ 2.34  0.72]\n",
            " [ 4.84  5.25]\n",
            " [ 3.81  7.5 ]\n",
            " [ 6.69  7.75]\n",
            " [14.14 19.75]\n",
            " [ 5.01  7.4 ]\n",
            " [ 5.27  4.75]\n",
            " [ 0.22  0.35]\n",
            " [ 2.82  1.7 ]\n",
            " [-8.7   4.4 ]\n",
            " [ 3.67  5.25]\n",
            " [ 8.57  5.11]\n",
            " [12.23 11.25]\n",
            " [-0.49  0.2 ]\n",
            " [ 2.19  0.78]\n",
            " [ 0.51  0.38]\n",
            " [ 1.4   0.65]\n",
            " [ 1.11  0.5 ]\n",
            " [-8.92  3.6 ]\n",
            " [-7.86  3.25]\n",
            " [ 8.02  7.2 ]\n",
            " [ 0.94  0.6 ]\n",
            " [ 4.98  8.75]\n",
            " [-0.56  3.  ]\n",
            " [ 2.53  1.15]\n",
            " [ 6.15  6.6 ]\n",
            " [ 8.2   4.75]\n",
            " [ 0.46  0.25]\n",
            " [ 2.1   8.25]\n",
            " [ 3.22  9.25]\n",
            " [32.86 19.99]\n",
            " [ 2.87  5.5 ]\n",
            " [ 3.86  4.75]\n",
            " [ 6.43  5.5 ]\n",
            " [ 9.79 12.9 ]\n",
            " [-0.53  0.3 ]\n",
            " [ 2.29  1.05]\n",
            " [ 4.03  5.25]\n",
            " [ 5.53  6.5 ]\n",
            " [ 7.25  7.5 ]\n",
            " [ 3.31  2.9 ]\n",
            " [ 4.94  4.8 ]\n",
            " [30.66 23.5 ]\n",
            " [ 2.61  1.2 ]\n",
            " [ 2.32  1.1 ]\n",
            " [ 1.24  0.65]\n",
            " [ 0.26  2.55]\n",
            " [ 2.16  4.15]\n",
            " [ 3.7   1.35]\n",
            " [-0.16  3.51]]\n"
          ]
        }
      ]
    },
    {
      "cell_type": "markdown",
      "metadata": {
        "id": "Fz1uTlWV919-"
      },
      "source": [
        "## Evaluating the Model Performance"
      ]
    },
    {
      "cell_type": "code",
      "metadata": {
        "id": "xvZQ_4W893-e",
        "colab": {
          "base_uri": "https://localhost:8080/"
        },
        "outputId": "881256b9-3544-496c-9844-9da25bae1a06"
      },
      "source": [
        "from sklearn.metrics import r2_score\n",
        "r2_score(y_test, y_pred)"
      ],
      "execution_count": 6,
      "outputs": [
        {
          "output_type": "execute_result",
          "data": {
            "text/plain": [
              "0.35741252435322357"
            ]
          },
          "metadata": {},
          "execution_count": 6
        }
      ]
    }
  ]
}