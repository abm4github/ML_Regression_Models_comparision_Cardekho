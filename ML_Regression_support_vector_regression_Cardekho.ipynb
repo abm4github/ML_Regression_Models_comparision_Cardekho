{
  "nbformat": 4,
  "nbformat_minor": 0,
  "metadata": {
    "colab": {
      "name": "support_vector_regression.ipynb",
      "provenance": [],
      "collapsed_sections": [],
      "include_colab_link": true
    },
    "kernelspec": {
      "name": "python3",
      "display_name": "Python 3"
    }
  },
  "cells": [
    {
      "cell_type": "markdown",
      "metadata": {
        "id": "view-in-github",
        "colab_type": "text"
      },
      "source": [
        "<a href=\"https://colab.research.google.com/github/abm4github/ML_Regression_Models_comparision_Cardekho/blob/main/ML_Regression_support_vector_regression_Cardekho.ipynb\" target=\"_parent\"><img src=\"https://colab.research.google.com/assets/colab-badge.svg\" alt=\"Open In Colab\"/></a>"
      ]
    },
    {
      "cell_type": "markdown",
      "metadata": {
        "id": "m3PAEPRDRLA3"
      },
      "source": [
        "# Support Vector Regression (SVR)"
      ]
    },
    {
      "cell_type": "markdown",
      "metadata": {
        "id": "0VCUAVIjRdzZ"
      },
      "source": [
        "## Importing the libraries"
      ]
    },
    {
      "cell_type": "code",
      "metadata": {
        "id": "56oRF-QfSDzC"
      },
      "source": [
        "import numpy as np\n",
        "import matplotlib.pyplot as plt\n",
        "import pandas as pd"
      ],
      "execution_count": 1,
      "outputs": []
    },
    {
      "cell_type": "markdown",
      "metadata": {
        "id": "fXVXoFWtSF4_"
      },
      "source": [
        "## Importing the dataset"
      ]
    },
    {
      "cell_type": "code",
      "metadata": {
        "id": "xfoa8OSORfHQ"
      },
      "source": [
        "dataset = pd.read_csv('car_dekho_cleaned.csv')\n",
        "X = dataset.iloc[:, :-1].values\n",
        "y = dataset.iloc[:, -1].values"
      ],
      "execution_count": 2,
      "outputs": []
    },
    {
      "cell_type": "code",
      "metadata": {
        "id": "_8Ny1GfPiV3m"
      },
      "source": [
        "y = y.reshape(len(y),1)"
      ],
      "execution_count": 3,
      "outputs": []
    },
    {
      "cell_type": "markdown",
      "metadata": {
        "id": "6Vk3nNlrCVCN"
      },
      "source": [
        "## Splitting the dataset into the Training set and Test set"
      ]
    },
    {
      "cell_type": "code",
      "metadata": {
        "id": "x_fXqrziCV3_"
      },
      "source": [
        "from sklearn.model_selection import train_test_split\n",
        "X_train, X_test, y_train, y_test = train_test_split(X, y, test_size = 0.2, random_state = 0)"
      ],
      "execution_count": 4,
      "outputs": []
    },
    {
      "cell_type": "markdown",
      "metadata": {
        "id": "YS8FeLHYS-nI"
      },
      "source": [
        "## Feature Scaling"
      ]
    },
    {
      "cell_type": "code",
      "metadata": {
        "id": "PGeAlD1HTDI1"
      },
      "source": [
        "from sklearn.preprocessing import StandardScaler\n",
        "sc_X = StandardScaler()\n",
        "sc_y = StandardScaler()\n",
        "X_train = sc_X.fit_transform(X_train)\n",
        "y_train = sc_y.fit_transform(y_train)"
      ],
      "execution_count": 5,
      "outputs": []
    },
    {
      "cell_type": "markdown",
      "metadata": {
        "id": "eiU6D2QFRjxY"
      },
      "source": [
        "## Training the SVR model on the Training set"
      ]
    },
    {
      "cell_type": "code",
      "metadata": {
        "id": "y6R4rt_GRz15",
        "colab": {
          "base_uri": "https://localhost:8080/"
        },
        "outputId": "bc223b77-f0b1-43dd-ad50-f17d44133ab0"
      },
      "source": [
        "from sklearn.svm import SVR\n",
        "regressor = SVR(kernel = 'rbf')\n",
        "regressor.fit(X_train, y_train)"
      ],
      "execution_count": 6,
      "outputs": [
        {
          "output_type": "stream",
          "name": "stderr",
          "text": [
            "/usr/local/lib/python3.7/dist-packages/sklearn/utils/validation.py:760: DataConversionWarning: A column-vector y was passed when a 1d array was expected. Please change the shape of y to (n_samples, ), for example using ravel().\n",
            "  y = column_or_1d(y, warn=True)\n"
          ]
        },
        {
          "output_type": "execute_result",
          "data": {
            "text/plain": [
              "SVR(C=1.0, cache_size=200, coef0=0.0, degree=3, epsilon=0.1, gamma='scale',\n",
              "    kernel='rbf', max_iter=-1, shrinking=True, tol=0.001, verbose=False)"
            ]
          },
          "metadata": {},
          "execution_count": 6
        }
      ]
    },
    {
      "cell_type": "markdown",
      "metadata": {
        "id": "aPYA5W1pDBOE"
      },
      "source": [
        "## Predicting the Test set results"
      ]
    },
    {
      "cell_type": "code",
      "metadata": {
        "id": "vSqFVDYrDROW",
        "colab": {
          "base_uri": "https://localhost:8080/"
        },
        "outputId": "b1b0fdf3-cec5-4ec2-c5cf-3aa4dcc10d5f"
      },
      "source": [
        "y_pred = sc_y.inverse_transform(regressor.predict(sc_X.transform(X_test)))\n",
        "np.set_printoptions(precision=2)\n",
        "print(np.concatenate((y_pred.reshape(len(y_pred),1), y_test.reshape(len(y_test),1)),1))"
      ],
      "execution_count": 7,
      "outputs": [
        {
          "output_type": "stream",
          "name": "stdout",
          "text": [
            "[[ 7.63e+00  8.25e+00]\n",
            " [ 5.23e-01  5.00e-01]\n",
            " [ 4.19e+00  5.25e+00]\n",
            " [ 9.52e+00  9.50e+00]\n",
            " [ 1.89e+01  1.80e+01]\n",
            " [ 5.22e+00  5.50e+00]\n",
            " [ 3.36e+00  3.75e+00]\n",
            " [ 6.11e-01  4.50e-01]\n",
            " [ 5.00e+00  4.50e+00]\n",
            " [ 4.38e+00  4.50e+00]\n",
            " [ 2.27e+00  2.70e+00]\n",
            " [ 1.03e+00  7.20e-01]\n",
            " [ 5.04e+00  5.25e+00]\n",
            " [ 6.69e+00  7.50e+00]\n",
            " [ 8.23e+00  7.75e+00]\n",
            " [ 1.22e+01  1.98e+01]\n",
            " [ 7.34e+00  7.40e+00]\n",
            " [ 3.91e+00  4.75e+00]\n",
            " [ 1.45e-01  3.50e-01]\n",
            " [ 1.99e+00  1.70e+00]\n",
            " [ 3.93e+00  4.40e+00]\n",
            " [ 3.62e+00  5.25e+00]\n",
            " [ 6.03e+00  5.11e+00]\n",
            " [ 9.72e+00  1.12e+01]\n",
            " [ 1.48e-01  2.00e-01]\n",
            " [ 1.24e+00  7.80e-01]\n",
            " [ 8.61e-02  3.80e-01]\n",
            " [ 6.38e-01  6.50e-01]\n",
            " [ 3.96e-01  5.00e-01]\n",
            " [ 3.92e+00  3.60e+00]\n",
            " [ 4.37e+00  3.25e+00]\n",
            " [ 7.26e+00  7.20e+00]\n",
            " [ 4.77e-01  6.00e-01]\n",
            " [ 7.51e+00  8.75e+00]\n",
            " [ 2.84e+00  3.00e+00]\n",
            " [ 1.46e+00  1.15e+00]\n",
            " [ 6.13e+00  6.60e+00]\n",
            " [ 6.62e+00  4.75e+00]\n",
            " [ 5.57e-01  2.50e-01]\n",
            " [ 8.79e+00  8.25e+00]\n",
            " [ 9.02e+00  9.25e+00]\n",
            " [ 2.02e+01  2.00e+01]\n",
            " [ 4.57e+00  5.50e+00]\n",
            " [ 3.44e+00  4.75e+00]\n",
            " [ 5.43e+00  5.50e+00]\n",
            " [ 1.11e+01  1.29e+01]\n",
            " [-1.28e-02  3.00e-01]\n",
            " [ 1.20e+00  1.05e+00]\n",
            " [ 4.92e+00  5.25e+00]\n",
            " [ 6.44e+00  6.50e+00]\n",
            " [ 7.19e+00  7.50e+00]\n",
            " [ 3.95e+00  2.90e+00]\n",
            " [ 4.52e+00  4.80e+00]\n",
            " [ 2.08e+01  2.35e+01]\n",
            " [ 1.47e+00  1.20e+00]\n",
            " [ 1.11e+00  1.10e+00]\n",
            " [ 4.54e-01  6.50e-01]\n",
            " [ 1.79e+00  2.55e+00]\n",
            " [ 3.15e+00  4.15e+00]\n",
            " [ 1.70e+00  1.35e+00]\n",
            " [ 2.24e+00  3.51e+00]]\n"
          ]
        }
      ]
    },
    {
      "cell_type": "markdown",
      "metadata": {
        "id": "CMsYlps2DX1d"
      },
      "source": [
        "## Evaluating the Model Performance"
      ]
    },
    {
      "cell_type": "code",
      "metadata": {
        "id": "HxsRWlURDr6S",
        "colab": {
          "base_uri": "https://localhost:8080/"
        },
        "outputId": "b0c7f201-3f52-4cc4-8d04-85bb6bb0edf4"
      },
      "source": [
        "from sklearn.metrics import r2_score\n",
        "r2_score(y_test, y_pred)"
      ],
      "execution_count": 8,
      "outputs": [
        {
          "output_type": "execute_result",
          "data": {
            "text/plain": [
              "0.9398165098349743"
            ]
          },
          "metadata": {},
          "execution_count": 8
        }
      ]
    }
  ]
}