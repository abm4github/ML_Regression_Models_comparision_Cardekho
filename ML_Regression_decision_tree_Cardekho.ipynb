{
  "nbformat": 4,
  "nbformat_minor": 0,
  "metadata": {
    "colab": {
      "name": "decision_tree_regression.ipynb",
      "provenance": [],
      "collapsed_sections": [],
      "include_colab_link": true
    },
    "kernelspec": {
      "name": "python3",
      "display_name": "Python 3"
    }
  },
  "cells": [
    {
      "cell_type": "markdown",
      "metadata": {
        "id": "view-in-github",
        "colab_type": "text"
      },
      "source": [
        "<a href=\"https://colab.research.google.com/github/abm4github/ML_Regression_Models_comparision_Cardekho/blob/main/ML_Regression_decision_tree_Cardekho.ipynb\" target=\"_parent\"><img src=\"https://colab.research.google.com/assets/colab-badge.svg\" alt=\"Open In Colab\"/></a>"
      ]
    },
    {
      "cell_type": "markdown",
      "metadata": {
        "id": "r3cas2_1T98w"
      },
      "source": [
        "# Decision Tree Regression"
      ]
    },
    {
      "cell_type": "markdown",
      "metadata": {
        "id": "IODliia6U1xO"
      },
      "source": [
        "## Importing the libraries"
      ]
    },
    {
      "cell_type": "code",
      "metadata": {
        "id": "y98nA5UdU6Hf"
      },
      "source": [
        "import numpy as np\n",
        "import matplotlib.pyplot as plt\n",
        "import pandas as pd"
      ],
      "execution_count": 1,
      "outputs": []
    },
    {
      "cell_type": "markdown",
      "metadata": {
        "id": "jpjZ43YlU8eI"
      },
      "source": [
        "## Importing the dataset"
      ]
    },
    {
      "cell_type": "code",
      "metadata": {
        "id": "pLVaXoYVU_Uy"
      },
      "source": [
        "dataset = pd.read_csv('car_dekho_cleaned.csv')\n",
        "X = dataset.iloc[:, :-1].values\n",
        "y = dataset.iloc[:, -1].values"
      ],
      "execution_count": 2,
      "outputs": []
    },
    {
      "cell_type": "markdown",
      "metadata": {
        "id": "tPJXMyyUJbWn"
      },
      "source": [
        "## Splitting the dataset into the Training set and Test set"
      ]
    },
    {
      "cell_type": "code",
      "metadata": {
        "id": "rFOzpjaiJd5B"
      },
      "source": [
        "from sklearn.model_selection import train_test_split\n",
        "X_train, X_test, y_train, y_test = train_test_split(X, y, test_size = 0.2, random_state = 0)"
      ],
      "execution_count": 3,
      "outputs": []
    },
    {
      "cell_type": "markdown",
      "metadata": {
        "id": "g16qFkFQVC35"
      },
      "source": [
        "## Training the Decision Tree Regression model on the Training set"
      ]
    },
    {
      "cell_type": "code",
      "metadata": {
        "id": "SLDKyv1SVUqS",
        "colab": {
          "base_uri": "https://localhost:8080/"
        },
        "outputId": "6ebde4e6-3849-48c5-e688-4cdf92d81db3"
      },
      "source": [
        "from sklearn.tree import DecisionTreeRegressor\n",
        "regressor = DecisionTreeRegressor(random_state = 0)\n",
        "regressor.fit(X_train, y_train)"
      ],
      "execution_count": 4,
      "outputs": [
        {
          "output_type": "execute_result",
          "data": {
            "text/plain": [
              "DecisionTreeRegressor(ccp_alpha=0.0, criterion='mse', max_depth=None,\n",
              "                      max_features=None, max_leaf_nodes=None,\n",
              "                      min_impurity_decrease=0.0, min_impurity_split=None,\n",
              "                      min_samples_leaf=1, min_samples_split=2,\n",
              "                      min_weight_fraction_leaf=0.0, presort='deprecated',\n",
              "                      random_state=0, splitter='best')"
            ]
          },
          "metadata": {},
          "execution_count": 4
        }
      ]
    },
    {
      "cell_type": "markdown",
      "metadata": {
        "id": "Nao9cdO6IgNb"
      },
      "source": [
        "## Predicting the Test set results"
      ]
    },
    {
      "cell_type": "code",
      "metadata": {
        "id": "EebHA3EOIkQK",
        "colab": {
          "base_uri": "https://localhost:8080/"
        },
        "outputId": "516ff966-fdce-4820-be30-816ca4b99c58"
      },
      "source": [
        "y_pred = regressor.predict(X_test)\n",
        "np.set_printoptions(precision=2)\n",
        "print(np.concatenate((y_pred.reshape(len(y_pred),1), y_test.reshape(len(y_test),1)),1))"
      ],
      "execution_count": 5,
      "outputs": [
        {
          "output_type": "stream",
          "name": "stdout",
          "text": [
            "[[ 6.85  8.25]\n",
            " [ 0.51  0.5 ]\n",
            " [ 4.4   5.25]\n",
            " [ 8.35  9.5 ]\n",
            " [17.   18.  ]\n",
            " [ 4.9   5.5 ]\n",
            " [ 3.9   3.75]\n",
            " [ 0.45  0.45]\n",
            " [ 3.5   4.5 ]\n",
            " [ 4.5   4.5 ]\n",
            " [ 3.1   2.7 ]\n",
            " [ 0.8   0.72]\n",
            " [ 4.8   5.25]\n",
            " [ 6.7   7.5 ]\n",
            " [ 7.75  7.75]\n",
            " [17.   19.75]\n",
            " [ 6.4   7.4 ]\n",
            " [ 3.95  4.75]\n",
            " [ 0.35  0.35]\n",
            " [ 1.45  1.7 ]\n",
            " [ 2.95  4.4 ]\n",
            " [ 4.9   5.25]\n",
            " [ 4.5   5.11]\n",
            " [14.73 11.25]\n",
            " [ 0.2   0.2 ]\n",
            " [ 0.75  0.78]\n",
            " [ 0.38  0.38]\n",
            " [ 0.6   0.65]\n",
            " [ 0.5   0.5 ]\n",
            " [ 3.8   3.6 ]\n",
            " [ 2.25  3.25]\n",
            " [ 5.95  7.2 ]\n",
            " [ 0.6   0.6 ]\n",
            " [ 7.25  8.75]\n",
            " [ 2.75  3.  ]\n",
            " [ 1.2   1.15]\n",
            " [ 5.25  6.6 ]\n",
            " [ 4.5   4.75]\n",
            " [ 0.25  0.25]\n",
            " [ 6.25  8.25]\n",
            " [ 7.25  9.25]\n",
            " [23.   19.99]\n",
            " [ 4.9   5.5 ]\n",
            " [ 4.4   4.75]\n",
            " [ 5.5   5.5 ]\n",
            " [11.5  12.9 ]\n",
            " [ 0.25  0.3 ]\n",
            " [ 1.05  1.05]\n",
            " [ 5.    5.25]\n",
            " [ 6.75  6.5 ]\n",
            " [ 4.5   7.5 ]\n",
            " [ 3.15  2.9 ]\n",
            " [ 5.2   4.8 ]\n",
            " [23.   23.5 ]\n",
            " [ 1.25  1.2 ]\n",
            " [ 1.1   1.1 ]\n",
            " [ 0.6   0.65]\n",
            " [ 2.95  2.55]\n",
            " [ 3.45  4.15]\n",
            " [ 3.    1.35]\n",
            " [ 4.    3.51]]\n"
          ]
        }
      ]
    },
    {
      "cell_type": "markdown",
      "metadata": {
        "id": "V4nELFnnIod1"
      },
      "source": [
        "## Evaluating the Model Performance"
      ]
    },
    {
      "cell_type": "code",
      "metadata": {
        "id": "_G2QS1UoIsTZ",
        "colab": {
          "base_uri": "https://localhost:8080/"
        },
        "outputId": "05eb6e4f-a33f-4af3-d3ce-f752a0143102"
      },
      "source": [
        "from sklearn.metrics import r2_score\n",
        "r2_score(y_test, y_pred)"
      ],
      "execution_count": 6,
      "outputs": [
        {
          "output_type": "execute_result",
          "data": {
            "text/plain": [
              "0.9540214381969696"
            ]
          },
          "metadata": {},
          "execution_count": 6
        }
      ]
    }
  ]
}