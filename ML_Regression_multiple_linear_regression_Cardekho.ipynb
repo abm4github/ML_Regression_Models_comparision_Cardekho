{
  "nbformat": 4,
  "nbformat_minor": 0,
  "metadata": {
    "colab": {
      "name": "multiple_linear_regression.ipynb",
      "provenance": [],
      "collapsed_sections": [],
      "include_colab_link": true
    },
    "kernelspec": {
      "name": "python3",
      "display_name": "Python 3"
    }
  },
  "cells": [
    {
      "cell_type": "markdown",
      "metadata": {
        "id": "view-in-github",
        "colab_type": "text"
      },
      "source": [
        "<a href=\"https://colab.research.google.com/github/abm4github/ML_Regression_Models_comparision_Cardekho/blob/main/ML_Regression_multiple_linear_regression_Cardekho.ipynb\" target=\"_parent\"><img src=\"https://colab.research.google.com/assets/colab-badge.svg\" alt=\"Open In Colab\"/></a>"
      ]
    },
    {
      "cell_type": "markdown",
      "metadata": {
        "id": "CazISR8X_HUG"
      },
      "source": [
        "# Multiple Linear Regression"
      ]
    },
    {
      "cell_type": "markdown",
      "metadata": {
        "id": "iibrasQzg7XH"
      },
      "source": [
        "# New Section"
      ]
    },
    {
      "cell_type": "markdown",
      "metadata": {
        "id": "pOyqYHTk_Q57"
      },
      "source": [
        "## Importing the libraries"
      ]
    },
    {
      "cell_type": "code",
      "metadata": {
        "id": "T_YHJjnD_Tja"
      },
      "source": [
        "import numpy as np\n",
        "import matplotlib.pyplot as plt\n",
        "import pandas as pd"
      ],
      "execution_count": 1,
      "outputs": []
    },
    {
      "cell_type": "markdown",
      "metadata": {
        "id": "vgC61-ah_WIz"
      },
      "source": [
        "## Importing the dataset"
      ]
    },
    {
      "cell_type": "code",
      "metadata": {
        "id": "UrxyEKGn_ez7"
      },
      "source": [
        "dataset = pd.read_csv('car_dekho_cleaned.csv')\n",
        "X = dataset.iloc[:, :-1].values\n",
        "y = dataset.iloc[:, -1].values"
      ],
      "execution_count": 2,
      "outputs": []
    },
    {
      "cell_type": "markdown",
      "metadata": {
        "id": "WemVnqgeA70k"
      },
      "source": [
        "## Splitting the dataset into the Training set and Test set"
      ]
    },
    {
      "cell_type": "code",
      "metadata": {
        "id": "Kb_v_ae-A-20"
      },
      "source": [
        "from sklearn.model_selection import train_test_split\n",
        "X_train, X_test, y_train, y_test = train_test_split(X, y, test_size = 0.2, random_state = 0)"
      ],
      "execution_count": 3,
      "outputs": []
    },
    {
      "cell_type": "markdown",
      "metadata": {
        "id": "k-McZVsQBINc"
      },
      "source": [
        "## Training the Multiple Linear Regression model on the Training set"
      ]
    },
    {
      "cell_type": "code",
      "metadata": {
        "id": "ywPjx0L1BMiD",
        "colab": {
          "base_uri": "https://localhost:8080/"
        },
        "outputId": "4c1c17be-9826-4cb0-a12f-15954a745539"
      },
      "source": [
        "from sklearn.linear_model import LinearRegression\n",
        "regressor = LinearRegression()\n",
        "regressor.fit(X_train, y_train)"
      ],
      "execution_count": 4,
      "outputs": [
        {
          "output_type": "execute_result",
          "data": {
            "text/plain": [
              "LinearRegression(copy_X=True, fit_intercept=True, n_jobs=None, normalize=False)"
            ]
          },
          "metadata": {},
          "execution_count": 4
        }
      ]
    },
    {
      "cell_type": "markdown",
      "metadata": {
        "id": "xNkXL1YQBiBT"
      },
      "source": [
        "## Predicting the Test set results"
      ]
    },
    {
      "cell_type": "code",
      "metadata": {
        "id": "TQKmwvtdBkyb",
        "colab": {
          "base_uri": "https://localhost:8080/"
        },
        "outputId": "25c48282-e4e0-46eb-8a35-ea01e8f96017"
      },
      "source": [
        "y_pred = regressor.predict(X_test)\n",
        "np.set_printoptions(precision=2)\n",
        "print(np.concatenate((y_pred.reshape(len(y_pred),1), y_test.reshape(len(y_test),1)),1))"
      ],
      "execution_count": 5,
      "outputs": [
        {
          "output_type": "stream",
          "name": "stdout",
          "text": [
            "[[ 7.76  8.25]\n",
            " [-0.35  0.5 ]\n",
            " [ 4.38  5.25]\n",
            " [ 9.44  9.5 ]\n",
            " [14.26 18.  ]\n",
            " [ 5.08  5.5 ]\n",
            " [ 3.72  3.75]\n",
            " [ 1.47  0.45]\n",
            " [ 5.49  4.5 ]\n",
            " [ 4.75  4.5 ]\n",
            " [ 2.43  2.7 ]\n",
            " [ 1.56  0.72]\n",
            " [ 5.13  5.25]\n",
            " [ 7.17  7.5 ]\n",
            " [ 8.32  7.75]\n",
            " [13.74 19.75]\n",
            " [ 7.62  7.4 ]\n",
            " [ 4.02  4.75]\n",
            " [-0.34  0.35]\n",
            " [ 2.22  1.7 ]\n",
            " [ 4.65  4.4 ]\n",
            " [ 3.88  5.25]\n",
            " [ 6.59  5.11]\n",
            " [ 8.12 11.25]\n",
            " [-1.74  0.2 ]\n",
            " [ 1.85  0.78]\n",
            " [-0.73  0.38]\n",
            " [ 0.79  0.65]\n",
            " [ 0.06  0.5 ]\n",
            " [ 6.88  3.6 ]\n",
            " [ 3.78  3.25]\n",
            " [ 7.76  7.2 ]\n",
            " [ 0.71  0.6 ]\n",
            " [ 7.63  8.75]\n",
            " [ 3.82  3.  ]\n",
            " [ 1.69  1.15]\n",
            " [ 5.76  6.6 ]\n",
            " [ 6.87  4.75]\n",
            " [-2.5   0.25]\n",
            " [ 9.5   8.25]\n",
            " [ 8.88  9.25]\n",
            " [19.94 19.99]\n",
            " [ 4.53  5.5 ]\n",
            " [ 4.01  4.75]\n",
            " [ 6.43  5.5 ]\n",
            " [10.16 12.9 ]\n",
            " [ 0.22  0.3 ]\n",
            " [ 1.6   1.05]\n",
            " [ 5.32  5.25]\n",
            " [ 7.05  6.5 ]\n",
            " [ 7.78  7.5 ]\n",
            " [ 4.26  2.9 ]\n",
            " [ 5.03  4.8 ]\n",
            " [20.28 23.5 ]\n",
            " [ 1.63  1.2 ]\n",
            " [ 1.22  1.1 ]\n",
            " [ 0.29  0.65]\n",
            " [ 2.14  2.55]\n",
            " [ 3.01  4.15]\n",
            " [ 0.76  1.35]\n",
            " [ 3.42  3.51]]\n"
          ]
        }
      ]
    },
    {
      "cell_type": "markdown",
      "metadata": {
        "id": "50DZZy0UyhLi"
      },
      "source": [
        "## Evaluating the Model Performance"
      ]
    },
    {
      "cell_type": "code",
      "metadata": {
        "id": "xPagAOKDywV4",
        "colab": {
          "base_uri": "https://localhost:8080/"
        },
        "outputId": "e26df122-c805-4e7b-d38c-8ba5af2d66e3"
      },
      "source": [
        "from sklearn.metrics import r2_score\n",
        "r2_score(y_test, y_pred)"
      ],
      "execution_count": 6,
      "outputs": [
        {
          "output_type": "execute_result",
          "data": {
            "text/plain": [
              "0.9157919346643199"
            ]
          },
          "metadata": {},
          "execution_count": 6
        }
      ]
    }
  ]
}