{
  "nbformat": 4,
  "nbformat_minor": 0,
  "metadata": {
    "colab": {
      "name": "random_forest_regression.ipynb",
      "provenance": [],
      "collapsed_sections": [],
      "include_colab_link": true
    },
    "kernelspec": {
      "name": "python3",
      "display_name": "Python 3"
    }
  },
  "cells": [
    {
      "cell_type": "markdown",
      "metadata": {
        "id": "view-in-github",
        "colab_type": "text"
      },
      "source": [
        "<a href=\"https://colab.research.google.com/github/abm4github/ML_Regression_Models_comparision_Cardekho/blob/main/ML_Regression_random_forest_regression_Cardekho.ipynb\" target=\"_parent\"><img src=\"https://colab.research.google.com/assets/colab-badge.svg\" alt=\"Open In Colab\"/></a>"
      ]
    },
    {
      "cell_type": "markdown",
      "metadata": {
        "id": "LeamvpPVXuS_"
      },
      "source": [
        "# Random Forest Regression"
      ]
    },
    {
      "cell_type": "markdown",
      "metadata": {
        "id": "O2wvZ7SKXzVC"
      },
      "source": [
        "## Importing the libraries"
      ]
    },
    {
      "cell_type": "code",
      "metadata": {
        "id": "PVmESEFZX4Ig"
      },
      "source": [
        "import numpy as np\n",
        "import matplotlib.pyplot as plt\n",
        "import pandas as pd"
      ],
      "execution_count": 1,
      "outputs": []
    },
    {
      "cell_type": "markdown",
      "metadata": {
        "id": "zgbK_F8-X7em"
      },
      "source": [
        "## Importing the dataset"
      ]
    },
    {
      "cell_type": "code",
      "metadata": {
        "id": "adBE4tjQX_Bh"
      },
      "source": [
        "dataset = pd.read_csv('car_dekho_cleaned.csv')\n",
        "X = dataset.iloc[:, :-1].values\n",
        "y = dataset.iloc[:, -1].values"
      ],
      "execution_count": 2,
      "outputs": []
    },
    {
      "cell_type": "markdown",
      "metadata": {
        "id": "ptNjcy7bOBlD"
      },
      "source": [
        "## Splitting the dataset into the Training set and Test set"
      ]
    },
    {
      "cell_type": "code",
      "metadata": {
        "id": "C7NdofoCOFQF"
      },
      "source": [
        "from sklearn.model_selection import train_test_split\n",
        "X_train, X_test, y_train, y_test = train_test_split(X, y, test_size = 0.2, random_state = 0)"
      ],
      "execution_count": 3,
      "outputs": []
    },
    {
      "cell_type": "markdown",
      "metadata": {
        "id": "v4S2fyIBYDcu"
      },
      "source": [
        "## Training the Random Forest Regression model on the whole dataset"
      ]
    },
    {
      "cell_type": "code",
      "metadata": {
        "id": "o8dOCoJ1YKMc",
        "colab": {
          "base_uri": "https://localhost:8080/"
        },
        "outputId": "d22b6694-6844-4cd7-da2c-36e18e6b0de6"
      },
      "source": [
        "from sklearn.ensemble import RandomForestRegressor\n",
        "regressor = RandomForestRegressor(n_estimators = 10, random_state = 0)\n",
        "regressor.fit(X_train, y_train)"
      ],
      "execution_count": 4,
      "outputs": [
        {
          "output_type": "execute_result",
          "data": {
            "text/plain": [
              "RandomForestRegressor(bootstrap=True, ccp_alpha=0.0, criterion='mse',\n",
              "                      max_depth=None, max_features='auto', max_leaf_nodes=None,\n",
              "                      max_samples=None, min_impurity_decrease=0.0,\n",
              "                      min_impurity_split=None, min_samples_leaf=1,\n",
              "                      min_samples_split=2, min_weight_fraction_leaf=0.0,\n",
              "                      n_estimators=10, n_jobs=None, oob_score=False,\n",
              "                      random_state=0, verbose=0, warm_start=False)"
            ]
          },
          "metadata": {},
          "execution_count": 4
        }
      ]
    },
    {
      "cell_type": "markdown",
      "metadata": {
        "id": "DM_jh0frOPKE"
      },
      "source": [
        "## Predicting the Test set results"
      ]
    },
    {
      "cell_type": "code",
      "metadata": {
        "id": "JGa9ZfM4OTNw",
        "colab": {
          "base_uri": "https://localhost:8080/"
        },
        "outputId": "2d4118f6-f70e-41a4-dcc3-038596336ba1"
      },
      "source": [
        "y_pred = regressor.predict(X_test)\n",
        "np.set_printoptions(precision=2)\n",
        "print(np.concatenate((y_pred.reshape(len(y_pred),1), y_test.reshape(len(y_test),1)),1))"
      ],
      "execution_count": 5,
      "outputs": [
        {
          "output_type": "stream",
          "name": "stdout",
          "text": [
            "[[ 7.71  8.25]\n",
            " [ 0.51  0.5 ]\n",
            " [ 4.67  5.25]\n",
            " [ 8.89  9.5 ]\n",
            " [15.77 18.  ]\n",
            " [ 5.18  5.5 ]\n",
            " [ 3.4   3.75]\n",
            " [ 0.45  0.45]\n",
            " [ 3.38  4.5 ]\n",
            " [ 4.58  4.5 ]\n",
            " [ 2.71  2.7 ]\n",
            " [ 0.72  0.72]\n",
            " [ 4.79  5.25]\n",
            " [ 6.88  7.5 ]\n",
            " [ 7.52  7.75]\n",
            " [14.8  19.75]\n",
            " [ 6.05  7.4 ]\n",
            " [ 4.03  4.75]\n",
            " [ 0.35  0.35]\n",
            " [ 1.62  1.7 ]\n",
            " [ 3.45  4.4 ]\n",
            " [ 4.84  5.25]\n",
            " [ 5.46  5.11]\n",
            " [10.55 11.25]\n",
            " [ 0.2   0.2 ]\n",
            " [ 0.76  0.78]\n",
            " [ 0.38  0.38]\n",
            " [ 0.68  0.65]\n",
            " [ 0.5   0.5 ]\n",
            " [ 4.19  3.6 ]\n",
            " [ 2.54  3.25]\n",
            " [ 6.23  7.2 ]\n",
            " [ 0.6   0.6 ]\n",
            " [ 7.3   8.75]\n",
            " [ 3.16  3.  ]\n",
            " [ 1.2   1.15]\n",
            " [ 5.51  6.6 ]\n",
            " [ 5.12  4.75]\n",
            " [ 0.24  0.25]\n",
            " [ 7.18  8.25]\n",
            " [ 7.88  9.25]\n",
            " [23.3  19.99]\n",
            " [ 4.86  5.5 ]\n",
            " [ 4.19  4.75]\n",
            " [ 5.7   5.5 ]\n",
            " [10.6  12.9 ]\n",
            " [ 0.29  0.3 ]\n",
            " [ 0.98  1.05]\n",
            " [ 5.37  5.25]\n",
            " [ 6.57  6.5 ]\n",
            " [ 7.    7.5 ]\n",
            " [ 2.99  2.9 ]\n",
            " [ 5.48  4.8 ]\n",
            " [24.15 23.5 ]\n",
            " [ 1.23  1.2 ]\n",
            " [ 1.1   1.1 ]\n",
            " [ 0.59  0.65]\n",
            " [ 2.52  2.55]\n",
            " [ 3.4   4.15]\n",
            " [ 2.63  1.35]\n",
            " [ 4.11  3.51]]\n"
          ]
        }
      ]
    },
    {
      "cell_type": "markdown",
      "metadata": {
        "id": "Cd8VZM5POWXN"
      },
      "source": [
        "## Evaluating the Model Performance"
      ]
    },
    {
      "cell_type": "code",
      "metadata": {
        "id": "a7y1rXlfOZJo",
        "colab": {
          "base_uri": "https://localhost:8080/"
        },
        "outputId": "4b4dd4c3-57ae-4392-a6a1-6f8dbaa3c79f"
      },
      "source": [
        "from sklearn.metrics import r2_score\n",
        "r2_score(y_test, y_pred)"
      ],
      "execution_count": 6,
      "outputs": [
        {
          "output_type": "execute_result",
          "data": {
            "text/plain": [
              "0.9574153970968962"
            ]
          },
          "metadata": {},
          "execution_count": 6
        }
      ]
    }
  ]
}